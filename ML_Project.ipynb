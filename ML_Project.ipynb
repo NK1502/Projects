{
  "nbformat": 4,
  "nbformat_minor": 0,
  "metadata": {
    "colab": {
      "provenance": [],
      "authorship_tag": "ABX9TyM+0c3Xzmfwknsn+1OZIZ6t",
      "include_colab_link": true
    },
    "kernelspec": {
      "name": "python3",
      "display_name": "Python 3"
    },
    "language_info": {
      "name": "python"
    }
  },
  "cells": [
    {
      "cell_type": "markdown",
      "metadata": {
        "id": "view-in-github",
        "colab_type": "text"
      },
      "source": [
        "<a href=\"https://colab.research.google.com/github/NK1502/Projects/blob/main/ML_Project.ipynb\" target=\"_parent\"><img src=\"https://colab.research.google.com/assets/colab-badge.svg\" alt=\"Open In Colab\"/></a>"
      ]
    },
    {
      "cell_type": "code",
      "execution_count": 5,
      "metadata": {
        "id": "_QZOf5HfSnP_",
        "colab": {
          "base_uri": "https://localhost:8080/"
        },
        "outputId": "194e74a5-713b-4d26-f2e3-4c0a835cae21"
      },
      "outputs": [
        {
          "output_type": "stream",
          "name": "stdout",
          "text": [
            "Training Data:\n",
            "                                     url  label                  source  \\\n",
            "0     irs-profilepaymentservice.com/home      1               phishtank   \n",
            "1                       cpuggsukabumi.id      0        majestic_million   \n",
            "2    members.tripod.com/~don_rc/ring.htm      0  data_clean_test_mendel   \n",
            "3  optuswebmailadminprovider.weebly.com/      1               phishtank   \n",
            "4                           topoz.com.pl      0            dmoz_harvard   \n",
            "\n",
            "   url_has_login  url_has_client  url_has_server  url_has_admin  url_has_ip  \\\n",
            "0              0               0               0              0           0   \n",
            "1              0               0               0              0           0   \n",
            "2              0               0               0              0           0   \n",
            "3              0               0               0              1           0   \n",
            "4              0               0               0              0           0   \n",
            "\n",
            "   url_isshorted  url_len  ...  pdomain_count_hyphen  pdomain_count_atrate  \\\n",
            "0              0       34  ...                   0.0                   0.0   \n",
            "1              0       16  ...                   0.0                   0.0   \n",
            "2              0       35  ...                   0.0                   0.0   \n",
            "3              0       37  ...                   0.0                   0.0   \n",
            "4              0       12  ...                   0.0                   0.0   \n",
            "\n",
            "   pdomain_count_non_alphanum  pdomain_count_digit  tld_len     tld  \\\n",
            "0                         0.0                  0.0      3.0     com   \n",
            "1                         0.0                  0.0      2.0      id   \n",
            "2                         0.0                  0.0      3.0     com   \n",
            "3                         0.0                  0.0      3.0     com   \n",
            "4                         0.0                  0.0      6.0  com.pl   \n",
            "\n",
            "   tld_is_sus  pdomain_min_distance  subdomain_len  subdomain_count_dot  \n",
            "0         0.0                  17.0            0.0                  0.0  \n",
            "1         1.0                  10.0            0.0                  0.0  \n",
            "2         0.0                   2.0            7.0                  0.0  \n",
            "3         0.0                   3.0           25.0                  0.0  \n",
            "4         0.0                   3.0            0.0                  0.0  \n",
            "\n",
            "[5 rows x 60 columns]\n",
            "\n",
            "Test Data:\n",
            "                             url  label                   source  \\\n",
            "0                spa-security.de      0             dmoz_harvard   \n",
            "1                   mallander.de      0         majestic_million   \n",
            "2                   zzndb.com.cn      0               alexatop1m   \n",
            "3                enviroseal.com/      0  data_clean_train_mendel   \n",
            "4  hunt1ngtonbank.3utilities.com      1     ALL-phishing-domains   \n",
            "\n",
            "   url_has_login  url_has_client  url_has_server  url_has_admin  url_has_ip  \\\n",
            "0              0               0               0              0           0   \n",
            "1              0               0               0              0           0   \n",
            "2              0               0               0              0           0   \n",
            "3              0               0               0              0           0   \n",
            "4              0               0               0              0           0   \n",
            "\n",
            "   url_isshorted  url_len  ...  pdomain_count_hyphen  pdomain_count_atrate  \\\n",
            "0              0       15  ...                   0.0                   0.0   \n",
            "1              0       12  ...                   0.0                   0.0   \n",
            "2              0       12  ...                   0.0                   0.0   \n",
            "3              0       15  ...                   0.0                   0.0   \n",
            "4              0       29  ...                   0.0                   0.0   \n",
            "\n",
            "   pdomain_count_non_alphanum  pdomain_count_digit  tld_len     tld  \\\n",
            "0                         0.0                  0.0      2.0      de   \n",
            "1                         0.0                  0.0      2.0      de   \n",
            "2                         0.0                  0.0      6.0  com.cn   \n",
            "3                         0.0                  0.0      3.0     com   \n",
            "4                         0.0                  0.0      3.0     com   \n",
            "\n",
            "   tld_is_sus  pdomain_min_distance  subdomain_len  subdomain_count_dot  \n",
            "0         0.0                   7.0            0.0                  0.0  \n",
            "1         0.0                   3.0            0.0                  0.0  \n",
            "2         0.0                   3.0            0.0                  0.0  \n",
            "3         0.0                   6.0            0.0                  0.0  \n",
            "4         0.0                   6.0           14.0                  0.0  \n",
            "\n",
            "[5 rows x 60 columns]\n"
          ]
        }
      ],
      "source": [
        "import pandas as pd\n",
        "\n",
        "# Load the training dataset\n",
        "train_df = pd.read_csv('train_dataset.csv')\n",
        "\n",
        "# Load the test dataset\n",
        "test_df = pd.read_csv('test_dataset.csv')\n",
        "\n",
        "# Display the first few rows of the training data\n",
        "print(\"Training Data:\")\n",
        "print(train_df.head())\n",
        "\n",
        "# Display the first few rows of the test data\n",
        "print(\"\\nTest Data:\")\n",
        "print(test_df.head())"
      ]
    },
    {
      "cell_type": "code",
      "source": [
        "from google.colab import drive\n",
        "drive.mount('/content/drive')"
      ],
      "metadata": {
        "id": "elHJF-Kf6NK2"
      },
      "execution_count": null,
      "outputs": []
    },
    {
      "cell_type": "markdown",
      "source": [
        "# New Section"
      ],
      "metadata": {
        "id": "YHuDejamtmkP"
      }
    },
    {
      "cell_type": "code",
      "source": [
        "# Separate features (X) and target (y) for training data\n",
        "X_train = train_df.drop('label', axis=1)  # Features\n",
        "y_train = train_df['label']  # Target variable\n",
        "\n",
        "# Separate features (X) and target (y) for test data\n",
        "X_test = test_df.drop('label', axis=1)  # Features\n",
        "y_test = test_df['label']  # Target variable"
      ],
      "metadata": {
        "id": "175UpDRolaE3"
      },
      "execution_count": 6,
      "outputs": []
    },
    {
      "cell_type": "code",
      "source": [
        "from sklearn.preprocessing import LabelEncoder\n",
        "\n",
        "# Initialize LabelEncoder\n",
        "le = LabelEncoder()\n",
        "\n",
        "# Apply label encoding to categorical columns\n",
        "for column in X_train.select_dtypes(include=['object']).columns:\n",
        "    X_train[column] = le.fit_transform(X_train[column])\n",
        "    X_test[column] = le.fit_transform(X_test[column])\n",
        "\n",
        "print(X_test.head())\n",
        "print(X_train.head())"
      ],
      "metadata": {
        "id": "0G-PiOwwu0E5",
        "colab": {
          "base_uri": "https://localhost:8080/"
        },
        "outputId": "63f2293c-bd64-4a69-c589-9a4a5aa87e87"
      },
      "execution_count": 7,
      "outputs": [
        {
          "output_type": "stream",
          "name": "stdout",
          "text": [
            "    url  source  url_has_login  url_has_client  url_has_server  url_has_admin  \\\n",
            "0  2992       6              0               0               0              0   \n",
            "1  2045       8              0               0               0              0   \n",
            "2  3602       3              0               0               0              0   \n",
            "3  1167       5              0               0               0              0   \n",
            "4  1625       0              0               0               0              0   \n",
            "\n",
            "   url_has_ip  url_isshorted  url_len  url_entropy  ...  pdomain_count_hyphen  \\\n",
            "0           0              0       15     3.640224  ...                   0.0   \n",
            "1           0              0       12     2.918296  ...                   0.0   \n",
            "2           0              0       12     2.918296  ...                   0.0   \n",
            "3           0              0       15     3.640224  ...                   0.0   \n",
            "4           0              0       29     3.935399  ...                   0.0   \n",
            "\n",
            "   pdomain_count_atrate  pdomain_count_non_alphanum  pdomain_count_digit  \\\n",
            "0                   0.0                         0.0                  0.0   \n",
            "1                   0.0                         0.0                  0.0   \n",
            "2                   0.0                         0.0                  0.0   \n",
            "3                   0.0                         0.0                  0.0   \n",
            "4                   0.0                         0.0                  0.0   \n",
            "\n",
            "   tld_len  tld  tld_is_sus  pdomain_min_distance  subdomain_len  \\\n",
            "0      2.0   74         0.0                   7.0            0.0   \n",
            "1      2.0   74         0.0                   3.0            0.0   \n",
            "2      6.0   56         0.0                   3.0            0.0   \n",
            "3      3.0   52         0.0                   6.0            0.0   \n",
            "4      3.0   52         0.0                   6.0           14.0   \n",
            "\n",
            "   subdomain_count_dot  \n",
            "0                  0.0  \n",
            "1                  0.0  \n",
            "2                  0.0  \n",
            "3                  0.0  \n",
            "4                  0.0  \n",
            "\n",
            "[5 rows x 59 columns]\n",
            "    url  source  url_has_login  url_has_client  url_has_server  url_has_admin  \\\n",
            "0  1790      10              0               0               0              0   \n",
            "1   875       8              0               0               0              0   \n",
            "2  2191       4              0               0               0              0   \n",
            "3  2487      10              0               0               0              1   \n",
            "4  3251       6              0               0               0              0   \n",
            "\n",
            "   url_has_ip  url_isshorted  url_len  url_entropy  ...  pdomain_count_hyphen  \\\n",
            "0           0              0       34     4.010134  ...                   0.0   \n",
            "1           0              0       16     3.452820  ...                   0.0   \n",
            "2           0              0       35     4.000432  ...                   0.0   \n",
            "3           0              0       37     4.175273  ...                   0.0   \n",
            "4           0              0       12     2.855389  ...                   0.0   \n",
            "\n",
            "   pdomain_count_atrate  pdomain_count_non_alphanum  pdomain_count_digit  \\\n",
            "0                   0.0                         0.0                  0.0   \n",
            "1                   0.0                         0.0                  0.0   \n",
            "2                   0.0                         0.0                  0.0   \n",
            "3                   0.0                         0.0                  0.0   \n",
            "4                   0.0                         0.0                  0.0   \n",
            "\n",
            "   tld_len  tld  tld_is_sus  pdomain_min_distance  subdomain_len  \\\n",
            "0      3.0   56         0.0                  17.0            0.0   \n",
            "1      2.0  142         1.0                  10.0            0.0   \n",
            "2      3.0   56         0.0                   2.0            7.0   \n",
            "3      3.0   56         0.0                   3.0           25.0   \n",
            "4      6.0   72         0.0                   3.0            0.0   \n",
            "\n",
            "   subdomain_count_dot  \n",
            "0                  0.0  \n",
            "1                  0.0  \n",
            "2                  0.0  \n",
            "3                  0.0  \n",
            "4                  0.0  \n",
            "\n",
            "[5 rows x 59 columns]\n"
          ]
        }
      ]
    },
    {
      "cell_type": "code",
      "source": [
        "import xgboost as xgb\n",
        "from sklearn.metrics import accuracy_score, classification_report, roc_auc_score\n",
        "dtrain = xgb.DMatrix(X_train, label=y_train, enable_categorical=True)\n",
        "dtest = xgb.DMatrix(X_test, label=y_test, enable_categorical=True)\n",
        "params = {\n",
        "    'objective': 'binary:logistic',  # For binary classification\n",
        "    'max_depth': 3,\n",
        "    'learning_rate': 0.01,\n",
        "    'subsample': 0.8,\n",
        "    'colsample_bytree': 0.8,\n",
        "    'eval_metric': 'logloss',\n",
        "    'seed': 42\n",
        "}\n",
        "xgb_model = xgb.train(params, dtrain, num_boost_round=100)\n",
        "\n",
        "# Evaluate the model\n",
        "y_pred = xgb_model.predict(dtest)\n",
        "y_pred = (y_pred > 0.5).astype(int)  # Convert probabilities to binary predictions\n",
        "print(\"Accuracy:\", accuracy_score(y_test, y_pred))\n",
        "print(\"ROC-AUC Score:\", roc_auc_score(y_test, y_pred))\n",
        "print(\"Classification Report:\\n\", classification_report(y_test, y_pred))"
      ],
      "metadata": {
        "id": "VYmLwgccvzBq",
        "colab": {
          "base_uri": "https://localhost:8080/"
        },
        "outputId": "56f47542-b3d7-47af-a871-724a848ff101"
      },
      "execution_count": 8,
      "outputs": [
        {
          "output_type": "stream",
          "name": "stdout",
          "text": [
            "Accuracy: 0.9958368026644463\n",
            "ROC-AUC Score: 0.9906015037593985\n",
            "Classification Report:\n",
            "               precision    recall  f1-score   support\n",
            "\n",
            "           0       0.99      1.00      1.00      2805\n",
            "           1       1.00      0.98      0.99       798\n",
            "\n",
            "    accuracy                           1.00      3603\n",
            "   macro avg       1.00      0.99      0.99      3603\n",
            "weighted avg       1.00      1.00      1.00      3603\n",
            "\n"
          ]
        }
      ]
    }
  ]
}